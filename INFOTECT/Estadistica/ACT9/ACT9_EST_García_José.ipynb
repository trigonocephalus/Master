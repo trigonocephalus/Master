{
 "cells": [
  {
   "cell_type": "markdown",
   "metadata": {},
   "source": [
    "# Estadística\n",
    "## Entrega U5. 5B. Regresión múltiple y logística\n",
    "#### José Antonio García Casanova"
   ]
  },
  {
   "cell_type": "markdown",
   "metadata": {},
   "source": [
    "#### 8.1 Baby weights, Part I.\n",
    "\n",
    "The Child Health and Development Studies investigate a range of topics. One study considered all pregnancies between 1960 and 1967 among women in the Kaiser Foundation Health Plan in the San Francisco East Bay area. Here, we study the relationship between smoking and weight of the baby. The variable smoke is coded 1 if the mother is a smoker, and 0 if not. The summary table below shows the results of a linear regression model for predicting the average birth weight of babies, measured in ounces, based on the smoking status of the mother.\n",
    "\n",
    "![img1](img1.png)\n",
    "\n",
    "The variability within the smokers and non-smokers are about equal and the distributions are symmetric. With these conditions satisfied, it is reasonable to apply the model. (Note that we don’t need to check linearity since the predictor has only two levels.)"
   ]
  },
  {
   "cell_type": "markdown",
   "metadata": {},
   "source": [
    "**(a) Write the equation of the regression line.**\n",
    "\n",
    "$\\hat{bebé_{peso}} = 123.05 - 8.94 \\times x_{\\text{smoke}}$\n",
    "\n",
    "**(b) Interpret the slope in this context, and calculate the predicted birth weight of babies born to smoker and non-smoker mothers.**\n",
    "\n",
    "La pendiente tiene sentido ya que esta aplica para los bebés cuyas madres son no fumadoras:\n",
    "\n",
    "Bebes de madres fumadoreas: $\\hat{bebé_{peso}} = 123.05 - 8.94 \\times x_{\\text{smoke}} = 123.05 - 8.94 \\times 1 = 114.11$\n",
    "\n",
    "Bebes de madres no fumadoreas: $\\hat{bebé_{peso}} = 123.05 - 8.94 \\times x_{\\text{smoke}} = 123.05 - 8.94 \\times 0 = 123.05$\n",
    "\n",
    "**(c) Is there a statistically significant relationship between the average birth weight and smoking?**\n",
    " \n",
    "$H_0 : \\beta_{\\text{smoke}}$ no es significativa;\n",
    "\n",
    "$H_1 : \\beta_{\\text{smoke}}$ es significativa.\n",
    " \n",
    "Sí, esto se puede comprobar verificando el p-value del coeficiente $\\beta_{\\text{smoke}}$ que viene en la tabla, el cual tiene un p-value menor al 0.05, por lo tanto se rechara la hipótesis nula por la alternativa, $\\beta_{\\text{smoke}}$ tiene una relación significativa y se confirma la relación entre fumar y el peso promedio al nacer."
   ]
  },
  {
   "cell_type": "markdown",
   "metadata": {},
   "source": [
    "#### 8.2 Baby weights, Part II.\n",
    "\n",
    "Exercise 8.1 introduces a data set on birth weight of babies. Another variable we consider is parity, which is 0 if the child is the first born, and 1 otherwise. The summary table below shows the results of a linear regression model for predicting the average birth weight of babies, measured in ounces, from parity.\n",
    "\n",
    "![img2](img2.png)"
   ]
  },
  {
   "cell_type": "markdown",
   "metadata": {},
   "source": [
    "**(a) Write the equation of the regression line.**\n",
    "\n",
    "$\\hat{bebé_{peso}} = 120.07 - 1.93 \\times x_{\\text{parity}}$\n",
    "\n",
    "**(b) Interpret the slope in this context, and calculate the predicted birth weight of first borns and others.**\n",
    "\n",
    "La pendiente tiene sentido ya que esta aplica para los bebés cuyas madres han tenido un hijo anteriormente o no:\n",
    "\n",
    "Bebes no primogénitos: $\\hat{bebé_{peso}} = 120.07 - 1.93 \\times x_{\\text{parity}} = 120.07 - 1.93 \\times 1 = 118.14$\n",
    "\n",
    "Bebes primogénitos: $\\hat{bebé_{peso}} = 120.07 - 1.93 \\times x_{\\text{parity}} = 120.07 - 1.93 \\times 0 = 120.07$\n",
    "\n",
    "**(c) Is there a statistically significant relationship between the average birth weight and parity?**\n",
    "\n",
    "$H_0 : \\beta_{\\text{parity}} $ no es significativa;\n",
    "\n",
    "$H_1 : \\beta_{\\text{parity}}$ es significativa.\n",
    " \n",
    "No, esto se puede comprobar verificando el p-value del coeficiente $\\beta_{\\text{parity}}$ que viene en la tabla, el cual tiene un p-value mayor al 0.05, por lo tanto se acepta la hipótesis nula, $\\beta_{\\text{parity}}$ no tiene una relación significativa y no se confirma la relación entre si es primogenito y el peso promedio al nacer."
   ]
  },
  {
   "cell_type": "markdown",
   "metadata": {},
   "source": [
    "#### 8.3 Baby weights, Part III. \n",
    "\n",
    "We considered the variables smoke and parity, one at a time, in modeling birth weights of babies in Exercises 8.1 and 8.2. A more realistic approach to modeling infant weights is to consider all possibly related variables at once. Other variables of interest include length of pregnancy in days (gestation), mother’s age in years (age), mother’s height in inches (height), and mother’s pregnancy weight in pounds (weight). Below are three observations from this data set.\n",
    "\n",
    "![img3](img3.png)\n",
    "\n",
    "The summary table below shows the results of a regression model for predicting the average birth weight of babies based on all of the variables included in the data set.\n",
    "\n",
    "![img4](img4.png)"
   ]
  },
  {
   "cell_type": "markdown",
   "metadata": {},
   "source": [
    "**(a) Write the equation of the regression line that includes all of the variables.**\n",
    " \n",
    "$\\hat{bebé_{peso}} = -80.41 + 0.44 \\times x_{\\text{gestation}} - 3.33 \\times x_{\\text{parity}} - 0.01 \\times x_{\\text{age}} + 1.15 \\times x_{\\text{height}} + 0.05 \\times x_{\\text{weight}} - 8.40 \\times x_{\\text{smoke}}$\n",
    " \n",
    "**(b) Interpret the slopes of gestation and age in this context.**\n",
    " \n",
    "$\\beta_{\\text{gestation}}$ :  El peso promedio del bebé en onzas aumentará 0.44 onzas por cada día agregado al embarazo.\n",
    " \n",
    "$\\beta_{\\text{age}}$ : El peso promedio del bebé en onzas disminuirá 0.01 onzas por cada año agregado a la edad de la madre.\n",
    " \n",
    "**(c) The coefficient for parity is different than in the linear model shown in Exercise 8.2. Why might there be a difference?**\n",
    " \n",
    "Al añadir más variables explicativas la estimación de los coeficientes será más precisa, es decir, en vez de modelar el peso promedio en onzas de un bebé con una variable, se distribuye el peso entre todas las variables incluidas en el modelo.\n",
    " \n",
    "**(d) Calculate the residual for the first observation in the data set.**\n",
    " \n",
    "$\\hat{bebé_{peso}} = -80.41 + 0.44 \\times 284 - 3.33 \\times 0 - 0.01 \\times 27 + 1.15 \\times 62 + 0.05 \\times 100 - 8.40 \\times 0 = 120.58 = \\hat{y}$\n",
    " \n",
    "Los residuos se calculan como:\n",
    " \n",
    "$ e_{i} = y_{i} - \\hat{y_{i}}$\n",
    " \n",
    "Sustituimos los valores:\n",
    " \n",
    "$ e_{i} = 120 - 120.58 = -0.58$\n",
    " \n",
    "Los residuos para la primera observación es de -0.58.\n",
    " \n",
    "**(e) The variance of the residuals is 249.28, and the variance of the birth weights of all babies in the data set is 332.57. Calculate the $R^2$ and the adjusted $R^2$. Note that there are 1,236 observations in the data set.**\n",
    " \n",
    "$R^{2}$ se calcula como:\n",
    " \n",
    "$R^{2} = 1 - \\frac{\\text{variability in residuals}}{\\text{variability in the outcome}} = 1 - \\frac{Var(e_{i})}{Var(y_{i}}$\n",
    " \n",
    "- variability in residuals = 249.28\n",
    "- variability in the outcome = 332.57\n",
    " \n",
    "Sustituimos:\n",
    " \n",
    "$R^{2} = 1 - \\frac{Var(e_{i})}{Var(y_{i}} = 1 - \\frac{249.28}{332.57} = 0.2504$\n",
    " \n",
    "$R^{2}$ ajustada se calcula como:\n",
    " \n",
    "$R^{2}_{adj} = 1 - \\frac{Var(e_{i})}{Var(y_{i}} \\times \\frac{n - 1}{n - k -1}$\n",
    " \n",
    "- n =  1236\n",
    "- k = 6 variables\n",
    " \n",
    "$R^{2}_{adj} 1 - \\frac{249.28}{332.57}  \\times \\frac{1236 - 1}{1236 - 6 -1} = 0.2468$"
   ]
  },
  {
   "cell_type": "markdown",
   "metadata": {},
   "source": [
    "#### Baby weights, Part IV. \n",
    "\n",
    "Exercise 8.3 considers a model that predicts a newborn’s weight using several predictors (gestation length, parity, age of mother, height of mother, weight of mother, smoking status of mother). The table below shows the adjusted R-squared for the full model as well as adjusted R-squared values for all models we evaluate in the first step of the backwards elimination process.\n",
    "\n",
    "![img5](img5.png)"
   ]
  },
  {
   "cell_type": "markdown",
   "metadata": {},
   "source": [
    "**Which, if any, variable should be removed from the model first?**\n",
    "\n",
    "De acuerdo a los valores presentados en esta tabla, se debería de remover la edad (**age**), ya que el modelo que no la considero tiene la $R^{2}_{adj}$ más alta."
   ]
  },
  {
   "cell_type": "markdown",
   "metadata": {},
   "source": [
    "#### 8.13 Baby weights, Part V. \n",
    "\n",
    "Exercise 8.3 presents a regression model for predicting the average birth weight of babies based on length of gestation, parity, height, weight, and smoking status of the mother. Determine if the model assumptions are met using the plots below. If not, describe how to proceed with the analysis.\n",
    "\n",
    "![img6](img6.png)\n",
    "\n",
    "![img7](img7.png)"
   ]
  },
  {
   "cell_type": "markdown",
   "metadata": {},
   "source": [
    "Son 4 los supuestos:\n",
    "1. los residuos del modelo son casi normales,\n",
    "2. la variabilidad de los residuos es casi constante,\n",
    "3. los residuos son independientes, y\n",
    "4. cada variable está linealmente relacionada con el resultado.\n",
    "Las gráficas de diagnóstico se pueden usar para verificar cada una de estas suposiciones."
   ]
  },
  {
   "cell_type": "markdown",
   "metadata": {},
   "source": [
    "Veamos como se comportan cada gráficos:\n",
    "\n",
    "1. Parece que se cumple la normalidad de los residuos pues de lo contrario deberíanmos ver algun valor atípico.\n",
    "2. Los residuos se encuentran cercanos a 0 y bien distribuidos para valores positivos y negativos.\n",
    "3. Este gráfico es útil para identificar cualquier conexión entre casos que están cerca uno del otro, en este caso no hay problema.\n",
    "4. La duración de la gestación tiene algunos valores atípicos.\n",
    "5. Los residuos de parity también se ven bien distribuidos.\n",
    "6. También los residuos de la altura de la madre se encuentran cercanos a 0 y bien distribuidos.\n",
    "7. Los residuos del peso de la madre parece que también se encuentran bien distribuidos.\n",
    "8. Los residuos de la variable fumar también se encuentran distribuidos entre 1 y 0."
   ]
  },
  {
   "cell_type": "markdown",
   "metadata": {},
   "source": [
    "#### 8.15 Possum classification, Part I. \n",
    "\n",
    "The common brushtail possum of the Australia region is a bit cuter than its distant cousin, the American opossum (see Figure 7.5 on page 334). We consider 104 brushtail possums from two regions in Australia, where the possums may be considered a random sample from the population. The first region is Victoria, which is in the eastern half of Australia and traverses the southern coast. The second region consists of New South Wales and Queensland, which make up eastern and northeastern Australia.\n",
    "\n",
    "We use logistic regression to differentiate between possums in these two regions. The outcome variable, called population, takes value 1 when a possum is from Victoria and 0 when it is from New South Wales or Queensland. We consider five predictors: sex male (an indicator for a possum being male), head length, skull width, total length, and tail length. Each variable is summarized in a histogram. The full logistic regression model and a reduced model after variable selection are summarized in the table.\n",
    "\n",
    "![img8](img8.png)\n",
    "\n",
    "![img9](img9.png)"
   ]
  },
  {
   "cell_type": "markdown",
   "metadata": {},
   "source": [
    "**(a) Examine each of the predictors. Are there any outliers that are likely to have a very large influence on the logistic regression model?**\n",
    "\n",
    "Las variables **head_lenght**, **skull width**, **total_lenght** tienen claramente valores atípicos que podrían influenciar en la regresión, esto se comprueba al notar las dos últimas barras del lado derecho que aparece en cada gráfico del histograma.\n",
    "\n",
    "**(b) The summary table for the full model indicates that at least one variable should be eliminated when using the p-value approach for variable selection: head length. The second component of the table summarizes the reduced model following variable selection. Explain why the remaining estimates change between the two models.**\n",
    "\n",
    "La razón por la que las estimaciones restantes cambian entre los dos modelos es porque es probable que **head_lenght** estuviera correlacionada con otras variables, probablemente con **sex_male** y **skull_width**, esto podría explicarse porque sí es macho su cuerpo podría ser más grande y que se mantiene cierta proporcionalidad entre el largo de la cabeza y el ancho del cráneo. Además el peso que tenía esta variable se distribuye en las demás para ajustar el modelo de regresión."
   ]
  },
  {
   "cell_type": "markdown",
   "metadata": {},
   "source": [
    "#### 8.17 Possum classification, Part II. \n",
    "\n",
    "A logistic regression model was proposed for classifying common brushtail possums into their two regions in Exercise 8.15. The outcome variable took\n",
    "value 1 if the possum was from Victoria and 0 otherwise.\n",
    "\n",
    "![img10](img10.png)"
   ]
  },
  {
   "cell_type": "markdown",
   "metadata": {},
   "source": [
    "**(a) Write out the form of the model. Also identify which of the variables are positively associated when controlling for other variables.**\n",
    "\n",
    "Este tipo de modelos tiene la forma de:\n",
    "\n",
    "$log (\\frac{p_i}{1 - p_1}) = \\beta_0 + x_1\\beta_1 + ... + x_1\\beta_1$\n",
    "\n",
    "Sustituimos:\n",
    "\n",
    "$log (\\frac{p_i}{1 - p_1}) = 33.5095 - 1.4207 x_{\\text{sex male}} - 0.2787 x_{\\text{skull width}} + 0.5687 x_{\\text{total length}} - 1.8057  x_{\\text{tail length}}$\n",
    "\n",
    "Vemos que **total_lenght**  es la única que se asocia positivamente "
   ]
  },
  {
   "cell_type": "markdown",
   "metadata": {},
   "source": [
    "**(b) Suppose we see a brushtail possum at a zoo in the US, and a sign says the possum had been captured in the wild in Australia, but it doesn’t say which part of Australia. However, the sign does indicate that the possum is male, its skull is about 63 mm wide, its tail is 37 cm long, and its total length is 83 cm. What is the reduced model’s computed probability that this possum is from Victoria? How confident are you in the model’s accuracy of this probability calculation?**\n",
    "\n",
    "La formula general es esta:\n",
    "\n",
    "$p_{i} = \\frac{e^{33.5095 - 1.4207 x_1 - 0.2787 x_2 + 0.5687 x_3 - 1.8057  x_4}}{1 + e^{33.5095 - 1.4207 x_1 - 0.2787 x_2 + 0.5687 x_3 - 1.8057  x_4}}$\n"
   ]
  },
  {
   "cell_type": "markdown",
   "metadata": {},
   "source": [
    "Sustituimos:\n",
    "- sex_male = 1\n",
    "- skull width = 63\n",
    "- cola = 37\n",
    "- length = 83\n",
    "\n",
    "$p_{i} = \\frac{e^{33.51 - 1.4207 * 1 - 0.2787 * 63 + 0.5687 * 83 - 1.8057 * 37}}{1 + e^{33.51 - 1.4207 * 1 - 0.2787 * 63 + 0.5687 * 83 - 1.8057 * 37}} = \\frac{e^{-5.0776}}{1 + e^{-5.0776}} = 0.006234$\n",
    "\n",
    "La confianza que tenemos para calcular la probabilidad de que esta zarigüeya sea de Victoria es de 0.006, lo cual es una probabilidad bastante baja. Los p-values de los coeficientes son menores a 0.05, por lo que cada coeficiente tiene una significancia del 95%. Sin embargo, el investigador debe de considerar los aspectos que rodean a la zarigüeya ya que la alimentación y el desarrollo físico de los animales en cautiverio es diferente al de los animales que no.\n"
   ]
  }
 ],
 "metadata": {
  "kernelspec": {
   "display_name": "Python 3.9.13 ('base')",
   "language": "python",
   "name": "python3"
  },
  "language_info": {
   "codemirror_mode": {
    "name": "ipython",
    "version": 3
   },
   "file_extension": ".py",
   "mimetype": "text/x-python",
   "name": "python",
   "nbconvert_exporter": "python",
   "pygments_lexer": "ipython3",
   "version": "3.9.13"
  },
  "orig_nbformat": 4,
  "vscode": {
   "interpreter": {
    "hash": "45646069fbb94a4f9600d725535276b0a33b21296aa35c4973a7b2ba70913c2e"
   }
  }
 },
 "nbformat": 4,
 "nbformat_minor": 2
}
