{
 "cells": [
  {
   "cell_type": "markdown",
   "metadata": {},
   "source": [
    "# Estadística\n",
    "## Entrega U5. 5B. Regresión múltiple y logística\n",
    "#### José Antonio García Casanova"
   ]
  },
  {
   "cell_type": "markdown",
   "metadata": {},
   "source": [
    "#### 8.1 Baby weights, Part I.\n",
    "\n",
    "The Child Health and Development Studies investigate a range of topics. One study considered all pregnancies between 1960 and 1967 among women in the Kaiser Foundation Health Plan in the San Francisco East Bay area. Here, we study the relationship between smoking and weight of the baby. The variable smoke is coded 1 if the mother is a smoker, and 0 if not. The summary table below shows the results of a linear regression model for predicting the average birth weight of babies, measured in ounces, based on the smoking status of the mother.\n",
    "\n",
    "![img1](img1.png)\n",
    "\n",
    "The variability within the smokers and non-smokers are about equal and the distributions are symmetric. With these conditions satisfied, it is reasonable to apply the model. (Note that we don’t need to check linearity since the predictor has only two levels.)\n",
    "\n",
    "**(a) Write the equation of the regression line.**\n",
    "\n",
    "\n",
    "**(b) Interpret the slope in this context, and calculate the predicted birth weight of babies born to smoker and non-smoker mothers.**\n",
    "\n",
    "\n",
    "**(c) Is there a statistically significant relationship between the average birth weight and smoking?**"
   ]
  },
  {
   "cell_type": "markdown",
   "metadata": {},
   "source": [
    "#### 8.2 Baby weights, Part II.\n",
    "\n",
    "Exercise 8.1 introduces a data set on birth weight of babies. Another variable we consider is parity, which is 0 if the child is the first born, and 1 otherwise. The summary table below shows the results of a linear regression model for predicting the average birth weight of babies, measured in ounces, from parity.\n",
    "\n",
    "![img2](img2.png)\n",
    "\n",
    "**(a) Write the equation of the regression line.**\n",
    "\n",
    "**(b) Interpret the slope in this context, and calculate the predicted birth weight of first borns and others.**\n",
    "\n",
    "**(c) Is there a statistically significant relationship between the average birth weight and parity?**\n"
   ]
  },
  {
   "cell_type": "markdown",
   "metadata": {},
   "source": [
    "#### 8.3 Baby weights, Part III. \n",
    "\n",
    "We considered the variables smoke and parity, one at a time, in modeling birth weights of babies in Exercises 8.1 and 8.2. A more realistic approach to modeling infant weights is to consider all possibly related variables at once. Other variables of interest include length of pregnancy in days (gestation), mother’s age in years (age), mother’s height in inches (height), and mother’s pregnancy weight in pounds (weight). Below are three observations from this data set.\n",
    "\n",
    "![img3](img3.png)\n",
    "\n",
    "The summary table below shows the results of a regression model for predicting the average birth weight of babies based on all of the variables included in the data set.\n",
    "\n",
    "![img4](img4.png)\n",
    "\n",
    "(a) Write the equation of the regression line that includes all of the variables.\n",
    "\n",
    "(b) Interpret the slopes of gestation and age in this context.\n",
    "\n",
    "(c) The coefficient for parity is di↵erent than in the linear model shown in Exercise 8.2. Why might there be a di↵erence?\n",
    "\n",
    "(d) Calculate the residual for the first observation in the data set.\n",
    "\n",
    "(e) The variance of the residuals is 249.28, and the variance of the birth weights of all babies in the data set is 332.57. Calculate the $R^2$ and the adjusted $R^2$. Note that there are 1,236 observations in the data set.\n"
   ]
  },
  {
   "cell_type": "markdown",
   "metadata": {},
   "source": [
    "#### Baby weights, Part IV. \n",
    "\n",
    "Exercise 8.3 considers a model that predicts a newborn’s weight using several predictors (gestation length, parity, age of mother, height of mother, weight of mother, smoking status of mother). The table below shows the adjusted R-squared for the full model as well as adjusted R-squared values for all models we evaluate in the first step of the backwards elimination process.\n",
    "\n",
    "![img5](img5.png)\n",
    "\n",
    "Which, if any, variable should be removed from the model first?"
   ]
  },
  {
   "cell_type": "markdown",
   "metadata": {},
   "source": [
    "#### 8.13 Baby weights, Part V. \n",
    "\n",
    "Exercise 8.3 presents a regression model for predicting the averagebirth weight of babies based on length of gestation, parity, height, weight, and smoking status of the mother. Determine if the model assumptions are met using the plots below. If not, describe how to proceed with the analysis.\n",
    "\n",
    "![img6](img6.png)\n",
    "\n",
    "![img7](img7.png)"
   ]
  },
  {
   "cell_type": "markdown",
   "metadata": {},
   "source": [
    "#### 8.15 Possum classification, Part I. \n",
    "\n",
    "The common brushtail possum of the Australia region is a bit cuter than its distant cousin, the American opossum (see Figure 7.5 on page 334). We consider 104 brushtail possums from two regions in Australia, where the possums may be considered a random sample from the population. The first region is Victoria, which is in the eastern half of Australia and traverses the southern coast. The second region consists of New South Wales and Queensland, which make up eastern and northeastern Australia.\n",
    "\n",
    "We use logistic regression to di↵erentiate between possums in these two regions. The outcome variable, called population, takes value 1 when a possum is from Victoria and 0 when it is from New South Wales or Queensland. We consider five predictors: sex male (an indicator for a possum being male), head length, skull width, total length, and tail length. Each variable is summarized in a histogram. The full logistic regression model and a reduced model after variable selection are summarized in the table.\n",
    "\n",
    "![img8](img8.png)\n",
    "\n",
    "![img9](img9.png)\n",
    "\n",
    "**(a) Examine each of the predictors. Are there any outliers that are likely to have a very large influence on the logistic regression model?**\n",
    "\n",
    "**(b) The summary table for the full model indicates that at least one variable should be eliminated when using the p-value approach for variable selection: head length. The second component of the table summarizes the reduced model following variable selection. Explain why the remaining estimates change between the two models.**"
   ]
  },
  {
   "cell_type": "markdown",
   "metadata": {},
   "source": [
    "#### 8.17 Possum classification, Part II. \n",
    "\n",
    "A logistic regression model was proposed for classifying common brushtail possums into their two regions in Exercise 8.15. The outcome variable took\n",
    "value 1 if the possum was from Victoria and 0 otherwise.\n",
    "\n",
    "![img10](img10.png)\n",
    "\n",
    "**(a) Write out the form of the model. Also identify which of the variables are positively associated when controlling for other variables.**\n",
    "\n",
    "\n",
    "**(b) Suppose we see a brushtail possum at a zoo in the US, and a sign says the possum had been captured in the wild in Australia, but it doesn’t say which part of Australia. However, the sign does indicate that the possum is male, its skull is about 63 mm wide, its tail is 37 cm long, and its total length is 83 cm. What is the reduced model’s computed probability that this possum is from Victoria? How confident are you in the model’s accuracy of this probability calculation?**"
   ]
  }
 ],
 "metadata": {
  "kernelspec": {
   "display_name": "Python 3.9.13 ('base')",
   "language": "python",
   "name": "python3"
  },
  "language_info": {
   "name": "python",
   "version": "3.9.13"
  },
  "orig_nbformat": 4,
  "vscode": {
   "interpreter": {
    "hash": "45646069fbb94a4f9600d725535276b0a33b21296aa35c4973a7b2ba70913c2e"
   }
  }
 },
 "nbformat": 4,
 "nbformat_minor": 2
}
