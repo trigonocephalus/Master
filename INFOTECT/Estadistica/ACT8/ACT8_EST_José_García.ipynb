{
 "cells": [
  {
   "cell_type": "markdown",
   "metadata": {},
   "source": [
    "# Estadística\n",
    "## Entrega U5. 5A. Introducción a la regresión lineal\n",
    "#### José Antonio García Casanova"
   ]
  },
  {
   "cell_type": "markdown",
   "metadata": {},
   "source": [
    "#### 7.12 Trees. \n",
    "\n",
    "The scatterplots below show the relationship between height, diameter, and volume of timber in 31 felled black cherry trees. The diameter of the tree is measured 4.5 feet above the ground:\n",
    "\n",
    "![7.12](2022-10-23-01-00-31.png)"
   ]
  },
  {
   "cell_type": "markdown",
   "metadata": {},
   "source": [
    "**(a) Describe the relationship between volume and height of these trees.**\n",
    "\n",
    "Se puede apreciar una correlación positiva entre el volumen y la altura de los árboles, la correlación no es muy notoria pero el grafo nos da indicios de que existe. \n",
    "\n",
    "**(b) Describe the relationship between volume and diameter of these trees.**\n",
    "\n",
    "Se puede apreciar una correlación positiva entre el volumen y el diámetro de los árboles, la correlación en este caso parece ser más notoria dándonos mayores indicios de que dicha correlación existe.\n",
    "\n",
    "**(c) Suppose you have height and diameter measurements for another black cherry tree. Which of these variables would be preferable to use to predict the volume of timber in this tree using a simple linear regression model? Explain your reasoning.**\n",
    "\n",
    "En este caso preferiría usar el diámetro como variable predictora pues basándonos en el diagrama de dispersión, los datos para diámetro-volumen se encuentran más agrupados por lo que será más fácil estimar una recta cuyo error sea menor, a diferencia de los datos altura-volumen, los cuales se encuentran más dispersos y seguramente el error sea mayor."
   ]
  },
  {
   "cell_type": "markdown",
   "metadata": {},
   "source": [
    "#### 7.23 Tourism spending.\n",
    "\n",
    "The Association of Turkish Travel Agencies reports the number of foreign tourists visiting Turkey and tourist spending by year. Three plots are provided: scatterplot showing the relationship between these two variables along with the least squares fit, residuals plot, and histogram of residuals.\n",
    "\n",
    "![7.23](2022-10-23-01-05-37.png)"
   ]
  },
  {
   "cell_type": "markdown",
   "metadata": {},
   "source": [
    "**(a) Describe the relationship between number of tourists and spending.**\n",
    "\n",
    "Se aprecia una correlación positiva entre el número de turistas y el gasto turístico.\n",
    "\n",
    "**(b) What are the explanatory and response variables?**\n",
    "\n",
    "Las variables explicativas son:\n",
    "- Número de turistas\n",
    "\n",
    "La variable de respuesta es:\n",
    "- Gasto turístico\n",
    "\n",
    "**(c) Why might we want to fit a regression line to these data?**\n",
    "\n",
    "Porqué aparentemente muestra ser una regresión lineal, (lo cual es una condición) y tal vez queramos determinar el ingreso que entraría a Turquía si se promueven viajes turísticos a su país.\n",
    "\n",
    "**(d) Do the data meet the conditions required for fitting a least squares line? In addition to the scatterplot, use the residual plot and histogram to answer this question.**\n",
    "\n",
    " \n",
    "Las condiciones para ajustar una línea de mínimos cuadrados son:\n",
    "- Linealidad: Se comprueba al ver la correlación positiva entre el número de turistas y el gasto turístico en el primer gráfico.\n",
    "- Residuos casi normales: Se comprueba al ver el histograma de los residuos, el tercer gráfico.\n",
    "- Variabilidad constante: Se rechaza al ver el segundo gráfico, para cumplir con esta condición, los residuos tendrían que estar más cercanos a cero. \n",
    "- Observaciones independientes: Como los datos no son una serie de tiempo podemos garantizar la independencia de las observaciones\n",
    "\n",
    "En conclusión, debido a que la variabilidad no es constante, no podemos utilizar un modelo de mínimos cuadrados para estimar el gasto turístico utilizando el número de turistas.\n"
   ]
  },
  {
   "cell_type": "markdown",
   "metadata": {},
   "source": [
    "#### 7.24 Nutrition at Starbucks, Part I. \n",
    "\n",
    "The scatterplot below shows the relationship between the number of calories and amount of carbohydrates (in grams) Starbucks food menu items contain. Since Starbucks only lists the number of calories on the display items, we are interested in predicting the amount of carbs a menu item has based on its calorie content.\n",
    "\n",
    "![7.24](2022-10-23-01-19-00.png)"
   ]
  },
  {
   "cell_type": "markdown",
   "metadata": {},
   "source": [
    "**(a) Describe the relationship between number of calories and amount of carbohydrates (in grams) that Starbucks food menu items contain.**\n",
    "\n",
    "Se aprecia una posible correlación positiva entre las calorías y los carbohidratos en el menú de Starbucks, aunque los datos, al parecer, se encuenrtan dispersos.\n",
    "\n",
    "**(b) In this scenario, what are the explanatory and response variables?**\n",
    "\n",
    "Las variables explicativas son:\n",
    "- Calorias\n",
    " \n",
    "La variable de respuesta es:\n",
    "- Carbohidratos \n",
    "\n",
    "**(c) Why might we want to fit a regression line to these data?**\n",
    "\n",
    "Porqué aparentemente muestra ser una regresión lineal, (lo cual es una condición) y porque de esta manera podemos ver si el modelo de mínimos cuadrados se ajusta a estos datos y si lo hace qué tan bien lo hace, además, puede que estemos interesados en saber el impacto que tiene las calorías sobre los carbohidratos.\n",
    "\n",
    "**(d) Do these data meet the conditions required for fitting a least squares line?**\n",
    "\n",
    "Las condiciones para ajustar una línea de mínimos cuadrados son:\n",
    "\n",
    "- Linealidad: Hay un poco de evidencia en el primer gráfico de que hay una correlación lineal positiva entre las calorías y los carbohidratos.\n",
    "- Residuos casi normales: Se verifica al ver el histograma de los residuos, en este caso, podemos ver que están un poco sesgados los datos. \n",
    "- Variabilidad constante: Se rechaza al ver el segundo gráfico, para cumplir con esta condición, los residuos tendrían que estar más cercanos a cero.\n",
    "- Observaciones independientes: Como los datos no son una serie de tiempo podemos garantizar la independencia de las observaciones\n",
    " \n",
    "En conclusión, debido a que la variabilidad no es constante, no podemos utilizar un modelo de mínimos cuadrados para estimar los carbohidratos utilizando las calorías.\n",
    "\n"
   ]
  },
  {
   "cell_type": "markdown",
   "metadata": {},
   "source": [
    "#### 7.27 Nutrition at Starbucks, Part II.\n",
    "\n",
    "Exercise 7.24 introduced a data set on nutrition information on Starbucks food menu items. Based on the scatterplot and the residual plot provided, describe the relationship between the protein content and calories of these menu items, and determine if a simple linear\n",
    "model is appropriate to predict amount of protein from the number of calories.\n",
    "\n",
    "![7.27](2022-10-23-01-23-52.png)"
   ]
  },
  {
   "cell_type": "markdown",
   "metadata": {},
   "source": [
    "1. La relación entre las calorías y el contenido proteico del menú de Starbucks parecer ser positiva, es decir, a medida que aumenten las calorías el contenido proteico aumenta.\n",
    " \n",
    "2. Estimar un modelo de mínimos cuadrados con estos datos resultaría en un modelo poco preciso, pues hay valores que se alejan mucho de la regresión lineal, esto puede causar que el valor que estima el modelo se encuentra muy alejado de una estimación real, además de que los residuos no presentan una variabilidad constante."
   ]
  },
  {
   "cell_type": "markdown",
   "metadata": {},
   "source": [
    "#### 7.36 Beer and blood alcohol content. \n",
    "\n",
    "Many people believe that gender, weight, drinking habits, and many other factors are much more important in predicting blood alcohol content (BAC) than simply considering the number of drinks a person consumed. Here we examine data from sixteen student volunteers at Ohio State University who each drank a randomly assigned number of cans of beer. These students were evenly divided between men and women, and they differed in weight and drinking habits. Thirty minutes later, a police officer measured their blood alcohol content (BAC) in grams of alcohol per deciliter of blood. The scatterplot and regression table summarize the findings.\n",
    "\n",
    "![7.36](2022-10-23-01-29-06.png)"
   ]
  },
  {
   "cell_type": "markdown",
   "metadata": {},
   "source": [
    "**(a) Describe the relationship between the number of cans of beer and BAC.**\n",
    " \n",
    "Se aprecia una correlación positiva entre el número de cervezas y la cantidad de alcohol en la sangre (BAC).\n",
    " \n",
    "**(b) Write the equation of the regression line. Interpret the slope and intercept in context.**\n",
    " \n",
    "$$ \\hat{y} = \\hat{\\text{BAC}} = -0.0127 + 0.180\\text{beers}$$\n",
    " \n",
    "**(c) Do the data provide strong evidence that drinking more cans of beer is associated with an increase in blood alcohol? State the null and alternative hypotheses, report the p-value, and state your conclusion.**\n",
    " \n",
    "$H_{0}:\\beta_1 = 0$, es decir, el número de cervezas no tiene impacto en BAC\n",
    " \n",
    "$H_{1}:\\beta_1 > 0$, es decir, el número de cervezas tiene impacto en BAC\n",
    " \n",
    "**(d) The correlation coefficient for number of cans of beer and BAC is 0.89. Calculate $R^{2}$ and interpret it in context.**\n",
    " $R^{2} = (0.89)^{2} = 0.7921$, esto quiere decir que el modelo explica 79.21% la variación de BAC\n",
    " \n",
    "**(e) Suppose we visit a bar, ask people how many drinks they have had, and also take their BAC. Do you think the relationship between number of drinks and BAC would be as strong as the relationship found in the Ohio State study?**\n",
    " \n",
    "Hay que considerar varias cosas:\n",
    " \n",
    "1. Las personas podrían mentir sobre el número de tragos que han tomado, es decir, al no ser un experimento controlado puede que nos encontremos con respuestas falsas\n",
    "2. Otro aspecto a considerar es la salud de los individuos, sí ellos se encuentran enfermos o tienen algún padecimiento que pueda disminuir la tasa de absorción de alcohol en la sangre, nuestros datos se verán afectados.\n",
    "3. Las personas pueden beber otro tipo de bebidas alcohólicas en un bar, por lo tanto, la cantidad de alcohol en las bebidas y por ende en la sangre podrá ser diferente.\n",
    " \n",
    "Asumamos que las personas dicen la verdad, que se encuentran sanas y todos consumen cerveza. La relación entre el número de tragos y BAC podrá ser la misma."
   ]
  }
 ],
 "metadata": {
  "kernelspec": {
   "display_name": "Python 3.8.13 ('py38')",
   "language": "python",
   "name": "python3"
  },
  "language_info": {
   "codemirror_mode": {
    "name": "ipython",
    "version": 3
   },
   "file_extension": ".py",
   "mimetype": "text/x-python",
   "name": "python",
   "nbconvert_exporter": "python",
   "pygments_lexer": "ipython3",
   "version": "3.8.13"
  },
  "orig_nbformat": 4,
  "vscode": {
   "interpreter": {
    "hash": "b2dd88e40c8a4701c2d962158b3b38452a175491d41034410e5874d242f70d4e"
   }
  }
 },
 "nbformat": 4,
 "nbformat_minor": 2
}
