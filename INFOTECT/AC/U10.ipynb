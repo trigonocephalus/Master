{
 "cells": [
  {
   "cell_type": "code",
   "execution_count": 222,
   "metadata": {},
   "outputs": [],
   "source": [
    "from sklearn.datasets import load_digits\n",
    "from sklearn.model_selection import KFold\n",
    "from sklearn.svm import LinearSVC\n",
    "from sklearn.model_selection import train_test_split\n",
    "import numpy as np\n",
    "from sklearn.metrics import f1_score\n",
    "\n",
    "import warnings\n",
    "warnings.filterwarnings(\"ignore\")"
   ]
  },
  {
   "cell_type": "code",
   "execution_count": 223,
   "metadata": {},
   "outputs": [],
   "source": [
    "X, y = load_digits(return_X_y=True)"
   ]
  },
  {
   "cell_type": "code",
   "execution_count": 224,
   "metadata": {},
   "outputs": [],
   "source": [
    "kf = KFold(n_splits=10,\n",
    "            shuffle=True)"
   ]
  },
  {
   "cell_type": "code",
   "execution_count": 225,
   "metadata": {},
   "outputs": [],
   "source": [
    "# for tr, vs in kf.split(X):\n",
    "#     print(tr)\n",
    "#     print(\"============\")\n",
    "#     print(vs)"
   ]
  },
  {
   "cell_type": "code",
   "execution_count": 226,
   "metadata": {},
   "outputs": [],
   "source": [
    "# Guardamos los datos en este arreglo\n",
    "hy = np.empty_like(y)\n",
    "\n",
    "# Dividimos en datos de entrenamiento y validacion\n",
    "for tr, vs in kf.split(X):\n",
    "\n",
    "    # Entrenamos el modelo\n",
    "    m = LinearSVC().fit(X[tr], y[tr])\n",
    "    \n",
    "    # predecimos con los datos de validación\n",
    "    hy[vs] = m.predict(X[vs])"
   ]
  },
  {
   "cell_type": "code",
   "execution_count": 227,
   "metadata": {},
   "outputs": [
    {
     "data": {
      "text/plain": [
       "0.9488970819786806"
      ]
     },
     "execution_count": 227,
     "metadata": {},
     "output_type": "execute_result"
    }
   ],
   "source": [
    "# Ya estimado el hy podemos medir el score\n",
    "lsvc_perf = f1_score(y,\n",
    "                     hy, \n",
    "                    average = 'macro')\n",
    "lsvc_perf"
   ]
  },
  {
   "cell_type": "markdown",
   "metadata": {},
   "source": [
    "## Bagging"
   ]
  },
  {
   "cell_type": "markdown",
   "metadata": {},
   "source": [
    "La idea es dividir el conjunto de entrenamiento en dos y solamente entrenariamos con la mitad, la otra mitad se desperdicia, y entrenando solo con la mitad se entrenara varias veces y vamos a predecir."
   ]
  },
  {
   "cell_type": "code",
   "execution_count": 228,
   "metadata": {},
   "outputs": [],
   "source": [
    "# hy para guardar los datos\n",
    "hy = np.empty_like(y)\n",
    "\n",
    "# Usamos el mismo paso de Kfold\n",
    "for tr, vs in kf.split(X):\n",
    "\n",
    "\n",
    "\n",
    "    # Vamos a guardar varios modelos\n",
    "    models = []\n",
    "\n",
    "    for _ in range(2):\n",
    "\n",
    "        # Queremos que el conjunto de entrenamiento representado por esos indices se divida en dos.\n",
    "        tr1, tr2 = train_test_split(tr, test_size = 0.5, shuffle = True)\n",
    "\n",
    "        # Entrenamos el modelo    \n",
    "        models.append(LinearSVC().fit(X[tr1], y[tr1]))\n",
    "    \n",
    "    break\n"
   ]
  },
  {
   "cell_type": "markdown",
   "metadata": {},
   "source": [
    "Con estas queremos predecir algo, en este caso la función de decision"
   ]
  },
  {
   "cell_type": "code",
   "execution_count": 229,
   "metadata": {},
   "outputs": [
    {
     "data": {
      "text/plain": [
       "[array([[ -4.52512067,  -6.30528015,   3.17808847, ...,  -1.87452706,\n",
       "          -5.99978196, -13.87283432],\n",
       "        [ -2.78361605,  -2.99962673,  -5.34668638, ...,  -2.47969511,\n",
       "           0.1582429 ,  -8.85912341],\n",
       "        [ -3.44275125,  -2.63252628,  -1.20454676, ...,  -5.50650528,\n",
       "          -8.89202403,  -0.13648195],\n",
       "        ...,\n",
       "        [ -5.32667284,   5.37940141,  -3.52889899, ...,  -3.8689471 ,\n",
       "          -2.69698001, -17.13935684],\n",
       "        [ -4.00375742,  -2.08661971,  -4.15922224, ...,  -5.33232426,\n",
       "          -1.57605559, -21.72345483],\n",
       "        [ -4.32293902, -11.96444263,  -3.33036513, ...,  -6.08993937,\n",
       "           0.6101741 ,  -4.67219149]]),\n",
       " array([[ -5.21545418,  -2.74472788,   3.54468466, ...,  -3.38732653,\n",
       "          -5.20966728, -12.27945069],\n",
       "        [ -2.97721413,   2.19513692,  -7.52423507, ...,  -2.39701563,\n",
       "          -3.09262368, -16.24255578],\n",
       "        [ -3.83704702,  -0.70934341,  -1.62900401, ...,  -7.71693552,\n",
       "          -6.11236157,  -1.2625697 ],\n",
       "        ...,\n",
       "        [ -5.48693858,   5.12146404,  -4.68765436, ...,  -5.57210056,\n",
       "          -2.0744418 , -15.29786293],\n",
       "        [ -3.41183766,  -1.26053295,  -4.92597012, ...,  -6.60327742,\n",
       "          -1.78107987, -24.21276047],\n",
       "        [ -4.82918721,  -7.74766312,  -4.85311639, ...,  -7.42816971,\n",
       "           1.68146444,  -6.54504409]])]"
      ]
     },
     "execution_count": 229,
     "metadata": {},
     "output_type": "execute_result"
    }
   ],
   "source": [
    "[m.decision_function(X[vs]) for m in models]"
   ]
  },
  {
   "cell_type": "code",
   "execution_count": 230,
   "metadata": {},
   "outputs": [
    {
     "data": {
      "text/plain": [
       "(2, 180, 10)"
      ]
     },
     "execution_count": 230,
     "metadata": {},
     "output_type": "execute_result"
    }
   ],
   "source": [
    "np.array([m.decision_function(X[vs]) for m in models]).shape"
   ]
  },
  {
   "cell_type": "markdown",
   "metadata": {},
   "source": [
    "Lo que acabamos de hacer es preguntarle a cada modelo por la función de desición, podemos tomar la media de la función de desicion y con esa media utilizar."
   ]
  },
  {
   "cell_type": "code",
   "execution_count": 231,
   "metadata": {},
   "outputs": [
    {
     "data": {
      "text/plain": [
       "array([ -4.87028742,  -4.52500402,   3.36138656,  -7.79453951,\n",
       "        -5.81042726,  -5.50223757,  -4.1456292 ,  -2.63092679,\n",
       "        -5.60472462, -13.07614251])"
      ]
     },
     "execution_count": 231,
     "metadata": {},
     "output_type": "execute_result"
    }
   ],
   "source": [
    "np.array([m.decision_function(X[vs]) for m in models]).mean(axis = 0)[0]"
   ]
  },
  {
   "cell_type": "markdown",
   "metadata": {},
   "source": [
    "Aqui indica a que clase pertence"
   ]
  },
  {
   "cell_type": "code",
   "execution_count": 232,
   "metadata": {},
   "outputs": [
    {
     "data": {
      "text/plain": [
       "array([2, 4, 9, 5, 2, 6, 1, 2, 4, 8, 1, 8, 7, 5, 4, 0, 5, 8, 1, 7, 7, 1,\n",
       "       4, 2, 8, 5, 6, 3, 5, 1, 5, 9, 7, 0, 2, 2, 6, 6, 1, 9, 3, 3, 8, 4,\n",
       "       5, 9, 0, 7, 1, 0, 2, 2, 8, 1, 4, 8, 0, 7, 4, 6, 1, 9, 6, 4, 4, 7,\n",
       "       8, 3, 4, 0, 1, 6, 6, 8, 1, 6, 1, 8, 4, 8, 1, 4, 3, 0, 2, 8, 5, 7,\n",
       "       2, 6, 6, 7, 1, 2, 2, 3, 5, 6, 3, 0, 7, 5, 5, 2, 4, 9, 2, 4, 9, 9,\n",
       "       7, 3, 4, 8, 0, 0, 7, 8, 2, 7, 7, 0, 5, 1, 4, 6, 4, 7, 8, 1, 2, 0,\n",
       "       7, 5, 8, 0, 7, 3, 1, 2, 8, 8, 2, 6, 1, 8, 5, 4, 0, 1, 0, 0, 1, 6,\n",
       "       9, 6, 2, 2, 5, 7, 3, 7, 2, 0, 9, 5, 4, 1, 8, 3, 7, 1, 6, 5, 0, 4,\n",
       "       3, 1, 6, 8], dtype=int64)"
      ]
     },
     "execution_count": 232,
     "metadata": {},
     "output_type": "execute_result"
    }
   ],
   "source": [
    "np.array([m.decision_function(X[vs]) for m in models]).mean(axis = 0).argmax(axis = 1)"
   ]
  },
  {
   "cell_type": "markdown",
   "metadata": {},
   "source": [
    "Esto es nuestra predicción:"
   ]
  },
  {
   "cell_type": "code",
   "execution_count": 233,
   "metadata": {},
   "outputs": [],
   "source": [
    "hy = np.empty_like(y)\n",
    "\n",
    "for tr, vs in kf.split(X):\n",
    "    \n",
    "    models = []\n",
    "    \n",
    "    for _ in range(2):\n",
    "\n",
    "        tr1, tr2 = train_test_split(tr, test_size = 0.5, shuffle=True)\n",
    "        \n",
    "        models.append(LinearSVC().fit(X[tr1], y[tr1]))\n",
    "\n",
    "    hy[vs] = np.array([m.decision_function(X[vs]) for m in models]).mean(axis = 0).argmax(axis = 1)"
   ]
  },
  {
   "cell_type": "code",
   "execution_count": 234,
   "metadata": {},
   "outputs": [
    {
     "data": {
      "text/plain": [
       "(0.9488970819786806, 0.9448802969924662)"
      ]
     },
     "execution_count": 234,
     "metadata": {},
     "output_type": "execute_result"
    }
   ],
   "source": [
    "lsvc_perf, f1_score(y, hy, average='macro')"
   ]
  },
  {
   "cell_type": "code",
   "execution_count": 235,
   "metadata": {},
   "outputs": [],
   "source": [
    "hy = np.empty_like(y)\n",
    "\n",
    "for tr, vs in kf.split(X):\n",
    "    models = []\n",
    "    for _ in range(4):\n",
    "        tr1, tr2 = train_test_split(tr, test_size = 0.5, shuffle=True)\n",
    "        models.append(LinearSVC().fit(X[tr1], y[tr1]))\n",
    "\n",
    "    hy[vs] = np.array([m.decision_function(X[vs]) for m in models]).mean(axis = 0).argmax(axis = 1)"
   ]
  },
  {
   "cell_type": "code",
   "execution_count": 236,
   "metadata": {},
   "outputs": [
    {
     "data": {
      "text/plain": [
       "(0.9488970819786806, 0.9504063071225038)"
      ]
     },
     "execution_count": 236,
     "metadata": {},
     "output_type": "execute_result"
    }
   ],
   "source": [
    "lsvc_perf, f1_score(y, hy, average='macro')"
   ]
  },
  {
   "cell_type": "code",
   "execution_count": 239,
   "metadata": {},
   "outputs": [],
   "source": [
    "hy = np.empty_like(y)\n",
    "\n",
    "for tr, vs in kf.split(X):\n",
    "    models = []\n",
    "    for _ in range(10):\n",
    "        tr1, tr2 = train_test_split(tr, test_size = 0.5, shuffle=True)\n",
    "        models.append(LinearSVC().fit(X[tr1], y[tr1]))\n",
    "\n",
    "    hy[vs] = np.array([m.decision_function(X[vs]) for m in models]).mean(axis = 0).argmax(axis = 1)"
   ]
  },
  {
   "cell_type": "code",
   "execution_count": 240,
   "metadata": {},
   "outputs": [
    {
     "data": {
      "text/plain": [
       "(0.9488970819786806, 0.9578552980917902)"
      ]
     },
     "execution_count": 240,
     "metadata": {},
     "output_type": "execute_result"
    }
   ],
   "source": [
    "lsvc_perf, f1_score(y, hy, average='macro')"
   ]
  },
  {
   "cell_type": "code",
   "execution_count": null,
   "metadata": {},
   "outputs": [],
   "source": []
  }
 ],
 "metadata": {
  "kernelspec": {
   "display_name": "Python 3.9.13 ('base')",
   "language": "python",
   "name": "python3"
  },
  "language_info": {
   "codemirror_mode": {
    "name": "ipython",
    "version": 3
   },
   "file_extension": ".py",
   "mimetype": "text/x-python",
   "name": "python",
   "nbconvert_exporter": "python",
   "pygments_lexer": "ipython3",
   "version": "3.9.13"
  },
  "orig_nbformat": 4,
  "vscode": {
   "interpreter": {
    "hash": "82f116a381a6bdd5c9d11b05964be2f9ca9f222cb54ba4a3fb82802bfa236998"
   }
  }
 },
 "nbformat": 4,
 "nbformat_minor": 2
}
