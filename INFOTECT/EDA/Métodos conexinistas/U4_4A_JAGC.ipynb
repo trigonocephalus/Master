{
 "cells": [
  {
   "cell_type": "markdown",
   "metadata": {},
   "source": [
    "# UNIDAD 4 Métodos conexinistas\n",
    "\n",
    "## Alumno: José Antonio García Casanova\n",
    "\n",
    "# Introducción\n",
    " \n",
    "Las redes neuronales son modelos que estan inspirados en el aprendizaje humano, forman parte de los modelos de aprendizaje no supervisados que crean una representación bidimensional (o tridimensional) de los datos, es decir, un conjunto de $n$ variables y $m$ registros pueden representarse como grupos bidimensionales facilitando la visualización y compresión de los datos. Entre los modelos de redes neuronales tenemos las redes competitivas, en estas redes, cada neurona se especializa en detectar un patrón, los Self-Organizing Map (SOM) forman parte de este tipo de redes (Berzal, F., 2018).\n",
    "\n",
    "# Desarrollo\n",
    " \n",
    "## Librerias \n",
    "\n",
    "Importamos las librerias necesarias para realizar el ejercicio:"
   ]
  },
  {
   "cell_type": "code",
   "execution_count": 1,
   "metadata": {},
   "outputs": [],
   "source": [
    "# Tratamiento de datos\n",
    "# ==============================================================================\n",
    "import numpy as np\n",
    "import pandas as pd\n",
    "from sklearn import preprocessing\n",
    "\n",
    "# Conjuntos de datos\n",
    "# ==============================================================================\n",
    "from sklearn import datasets\n",
    "\n",
    "# Gráficos\n",
    "# ==============================================================================\n",
    "import matplotlib.pyplot as plt\n",
    "import matplotlib.font_manager\n",
    "from matplotlib import style\n",
    "style.use('ggplot') or plt.style.use('ggplot')\n",
    "\n",
    "# KMeans\n",
    "# ==============================================================================\n",
    "from sklearn.cluster import KMeans\n",
    "\n",
    "# Importamos librería para métricas\n",
    "# ==============================================================================\n",
    "from sklearn.metrics import classification_report\n",
    "\n",
    "# Configuración warnings\n",
    "# ==============================================================================\n",
    "import warnings\n",
    "warnings.filterwarnings('ignore')"
   ]
  },
  {
   "cell_type": "markdown",
   "metadata": {},
   "source": [
    "## Conjuntos de datos seleccionados\n",
    " \n",
    "Para el desarrollo de esta actividad seleccionamos el conjunto de datos de `iris` que se encuentra en la librería de sklearn:"
   ]
  },
  {
   "cell_type": "code",
   "execution_count": 2,
   "metadata": {},
   "outputs": [],
   "source": [
    "iris = datasets.load_iris()"
   ]
  },
  {
   "cell_type": "markdown",
   "metadata": {},
   "source": [
    "## Cálculo de los Valores Propios\n",
    " \n",
    "Los valores propios son las varianzas de los componentes principales, para esto procedemos a estimar la matriz de covarianzas, esto lo haremos a través de la `np.cov`, después de obtener la matriz de covarianzas utilizamos el módulo `np.linal.eigh` para obtener los valores propios de la matriz:"
   ]
  },
  {
   "cell_type": "code",
   "execution_count": 3,
   "metadata": {},
   "outputs": [
    {
     "name": "stdout",
     "output_type": "stream",
     "text": [
      "Autovalores de la matriz:  [0.02383509 0.0782095  0.24267075 4.22824171]\n",
      "\n",
      "Autovectores de la matriz: \n",
      "[[ 0.31548719  0.58202985  0.65658877 -0.36138659]\n",
      " [-0.3197231  -0.59791083  0.73016143  0.08452251]\n",
      " [-0.47983899 -0.07623608 -0.17337266 -0.85667061]\n",
      " [ 0.75365743 -0.54583143 -0.07548102 -0.3582892 ]]\n"
     ]
    }
   ],
   "source": [
    "X = iris.data\n",
    "\n",
    "S= np.cov(X.T)\n",
    "\n",
    "autovalores, autovectores = np.linalg.eigh(S)\n",
    "\n",
    "print(\"Autovalores de la matriz: \", autovalores)\n",
    "print()\n",
    "print(\"Autovectores de la matriz: \")\n",
    "print(autovectores)"
   ]
  },
  {
   "cell_type": "markdown",
   "metadata": {},
   "source": [
    "Dividimos los dos primeros valores propios para obtener las dimensiones de nuestra red neuronal:"
   ]
  },
  {
   "cell_type": "code",
   "execution_count": 12,
   "metadata": {},
   "outputs": [
    {
     "data": {
      "text/plain": [
       "17"
      ]
     },
     "execution_count": 12,
     "metadata": {},
     "output_type": "execute_result"
    }
   ],
   "source": [
    "int(autovalores[3] / autovalores[2])"
   ]
  },
  {
   "cell_type": "markdown",
   "metadata": {},
   "source": [
    "## Exportación del Dataframe"
   ]
  },
  {
   "cell_type": "markdown",
   "metadata": {},
   "source": [
    "Exportamos nuestro conjunto de datos para hacer el entrenamiento de redes neuronales:"
   ]
  },
  {
   "cell_type": "code",
   "execution_count": 5,
   "metadata": {},
   "outputs": [],
   "source": [
    "iris_df = pd.DataFrame(data= np.c_[iris['data'], iris['target']], columns= iris['feature_names'] + ['target'])\n",
    "\n",
    "def rename(x):\n",
    "    \"This replace the float data type with a string data type\"\n",
    "    if x == 0.0:\n",
    "        return 'setosa'\n",
    "    elif x == 1.0:\n",
    "        return 'versicolor'\n",
    "    else:\n",
    "        return 'virginica'\n",
    "\n",
    "iris_df['target'] = iris_df['target'].apply(rename)\n",
    "\n",
    "iris_df = iris_df[['target', 'sepal length (cm)', 'sepal width (cm)', 'petal length (cm)', 'petal width (cm)']]\n",
    "\n",
    "iris_df.to_csv('iris.csv', index=False)"
   ]
  },
  {
   "cell_type": "markdown",
   "metadata": {},
   "source": [
    "## LabSOM\n",
    "\n",
    "Cargamos nuetros datos en el programa **LabSOM**:\n",
    "\n",
    "![imagen1](./Captura%20de%20pantalla%202022-10-30%20190508.png)\n",
    "\n",
    "Como no desconocemos que distancia se adecua mejor a los datos, mantenemos la distancia euclidiana:\n",
    "\n",
    "![imagen2](./Captura%20de%20pantalla%202022-10-30%20191808.png)\n",
    "\n",
    "Como el cociente de los valores propios es ~17, entonces establecemos el tamaño de nuestra red como 170 de alto y 10 de ancho.\n",
    "\n",
    "El resultado de los componentes es el siguiente:\n",
    "\n",
    "![imagen3](./graph5.png)\n"
   ]
  },
  {
   "cell_type": "markdown",
   "metadata": {},
   "source": [
    "\n",
    "Como se puede apreciar, se separan en 3 grupos. La anchura del sepalo es la variable más importante para poder distinguir a **setosa**, por su parte **virginica** se encuentra más acumulada en el largo del sepalo y la anchura y largo del pétalo y **versicolor** se encuentra disperson en el centro de los gráficos.\n",
    "\n",
    "Aplicamos el método **SOM-Ward** para hacer la clusterización:\n",
    "\n",
    "![imagen8](./clusters6.png)"
   ]
  },
  {
   "cell_type": "markdown",
   "metadata": {},
   "source": [
    "Agruparlo en grupos de 3 es el resultado optimo, pues **setosa** se separa claramente del resto de las especies. La segmentación entre **virginica** y **versicolor** es un poco más difusa. En este conjunto de datos de iris sabemos que el número de especies son 3, por lo que la clusterización adecuada es en 3 clusters.\n",
    "\n",
    "## Evaluación de Resultado de SOM:\n",
    "\n",
    "Para evaluar los resultados, vamos a importarlos y unirlos con el dataset original, el join lo tendremos que hacer con las médidas ya que no existe un indice para unirlos:"
   ]
  },
  {
   "cell_type": "code",
   "execution_count": 13,
   "metadata": {},
   "outputs": [],
   "source": [
    "results = pd.read_csv(\"./dataclusterlabels.txt\", sep = \";\", header = None)\n",
    "results = results.rename(columns= {0:'target', 1:'sepal length (cm)', 2:'sepal width (cm)', 3:'petal length (cm)', 4:'petal width (cm)', 5:'resultados_SOM'})"
   ]
  },
  {
   "cell_type": "code",
   "execution_count": 7,
   "metadata": {},
   "outputs": [
    {
     "name": "stdout",
     "output_type": "stream",
     "text": [
      "              precision    recall  f1-score   support\n",
      "\n",
      "           1       0.96      0.50      0.66        50\n",
      "           2       0.94      1.00      0.97        50\n",
      "           3       0.69      0.98      0.81        49\n",
      "\n",
      "    accuracy                           0.83       149\n",
      "   macro avg       0.86      0.83      0.81       149\n",
      "weighted avg       0.86      0.83      0.81       149\n",
      "\n"
     ]
    }
   ],
   "source": [
    "evaluacion = iris_df.merge(results, \n",
    "             left_on=['sepal length (cm)', 'sepal width (cm)', 'petal length (cm)', 'petal width (cm)'], \n",
    "             right_on=['sepal length (cm)', 'sepal width (cm)', 'petal length (cm)', 'petal width (cm)'],\n",
    "             suffixes = ('_original', '_redes'))\n",
    "\n",
    "def to_number(x):\n",
    "    if x == 'setosa':\n",
    "        return 2\n",
    "    elif x == 'virginica':\n",
    "        return 3\n",
    "    else:\n",
    "        return 1\n",
    "\n",
    "evaluacion['resultados_original'] = evaluacion['target_original'].apply(to_number)\n",
    "\n",
    "evaluacion = evaluacion.drop_duplicates(keep = 'first')\n",
    "\n",
    "print(classification_report(evaluacion.resultados_original, evaluacion.resultados_SOM))"
   ]
  },
  {
   "cell_type": "markdown",
   "metadata": {},
   "source": [
    "Para este caso nuestro algortimo marca precisión macro del 86%, recall macro 83% y F1-score con un 81%."
   ]
  },
  {
   "cell_type": "markdown",
   "metadata": {},
   "source": [
    "## Comparativa de métodos de proyección y agrupación\n",
    "\n",
    "### K-Means\n",
    "\n",
    "Utilizaremos el algortimode **K-Means** para hacer las agrupaciones, para esto utilizaremos el método **Elbow** para determinar el número de clusters optimos. \n",
    "\n",
    "#### Elbow\n",
    "\n",
    "Este método consiste en estimar la suma de los errores al cuadrado (SSE), la cúal es la distancia de todos los objetos con respecto de los centroides, y elegir el número de clusters dónde la diferencia haya sido mayor con respecto al número de clusters anterior, utilizaremos el método inertia_ para guardar el SSE:"
   ]
  },
  {
   "cell_type": "code",
   "execution_count": 8,
   "metadata": {},
   "outputs": [
    {
     "data": {
      "text/plain": [
       "[<matplotlib.lines.Line2D at 0x13a3d355f10>]"
      ]
     },
     "execution_count": 8,
     "metadata": {},
     "output_type": "execute_result"
    },
    {
     "data": {
      "image/png": "[encoded data removed]",
      "text/plain": [
       "<Figure size 640x480 with 1 Axes>"
      ]
     },
     "metadata": {},
     "output_type": "display_data"
    }
   ],
   "source": [
    "clusters = [x for x in range(1,8)]\n",
    "sse_list = []\n",
    "\n",
    "for cluster in clusters:\n",
    "    modelo_kmeans = KMeans(n_clusters = cluster)\n",
    "    modelo_kmeans.fit(X)\n",
    "    sse_list.append(modelo_kmeans.inertia_)\n",
    "\n",
    "fig, ax = plt.subplots(1, 1)\n",
    "ax.set_xticks(clusters)\n",
    "ax.set_title(\"SSE por número de clusters\")\n",
    "ax.set_xlabel('clusters')\n",
    "ax.set_ylabel('Medida de calidad')\n",
    "ax.plot(clusters, sse_list)"
   ]
  },
  {
   "cell_type": "markdown",
   "metadata": {},
   "source": [
    "De acuerdo al criterio de selección **Elbow**, el número de clusters seleccionado es 3.\n",
    "\n",
    "#### Modelo K-Means \n",
    "\n",
    "Una vez seleccionado el número de clusters optimos, implementamos el modelo K-Means:"
   ]
  },
  {
   "cell_type": "code",
   "execution_count": 9,
   "metadata": {},
   "outputs": [
    {
     "data": {
      "text/plain": [
       "Text(0.5, 1.0, 'Clusters = 3')"
      ]
     },
     "execution_count": 9,
     "metadata": {},
     "output_type": "execute_result"
    },
    {
     "data": {
      "image/png": "[encoded data removed]",
      "text/plain": [
       "<Figure size 640x480 with 1 Axes>"
      ]
     },
     "metadata": {},
     "output_type": "display_data"
    }
   ],
   "source": [
    "fig, ax = plt.subplots(1, 1)\n",
    "\n",
    "model_kmeans = KMeans(n_clusters = 3)\n",
    "y_hat = model_kmeans.fit_predict(X = X)\n",
    "ax.scatter(x = X[:, 0],\n",
    "           y = X[:, 1], \n",
    "           c = y_hat)\n",
    "\n",
    "ax.set_title('Clusters = 3')"
   ]
  },
  {
   "cell_type": "markdown",
   "metadata": {},
   "source": [
    "Evaluamos el desempeño de nuesto modelo:"
   ]
  },
  {
   "cell_type": "code",
   "execution_count": 10,
   "metadata": {},
   "outputs": [],
   "source": [
    "y_hat_fix = []\n",
    "\n",
    "for i in y_hat:\n",
    "    if i == 1:\n",
    "        y_hat_fix.append(0)\n",
    "    elif i == 0:\n",
    "        y_hat_fix.append(1)\n",
    "    else:\n",
    "        y_hat_fix.append(i)\n",
    "\n",
    "y_hat_fix = np.array(y_hat_fix)"
   ]
  },
  {
   "cell_type": "code",
   "execution_count": 11,
   "metadata": {},
   "outputs": [
    {
     "name": "stdout",
     "output_type": "stream",
     "text": [
      "              precision    recall  f1-score   support\n",
      "\n",
      "           0       1.00      1.00      1.00        50\n",
      "           1       0.05      0.04      0.05        50\n",
      "           2       0.23      0.28      0.25        50\n",
      "\n",
      "    accuracy                           0.44       150\n",
      "   macro avg       0.43      0.44      0.43       150\n",
      "weighted avg       0.43      0.44      0.43       150\n",
      "\n"
     ]
    }
   ],
   "source": [
    "print(classification_report(iris.target, np.array(y_hat_fix)))"
   ]
  },
  {
   "cell_type": "markdown",
   "metadata": {},
   "source": [
    "Para este caso nuestro algortimo marca precisión macro del 91%, recall macro y F1-score ambos con un 89%.\n",
    "\n",
    "# Conclusiones\n",
    "\n",
    "Como se observó, el método de redes neuronales SOM hace una agrupación bastante confiable aunque al compararlo con el método de K-Means este último presenta mejores resultados, la diferencia no es mucha, pero existe. La ventaja de hacerlo a través de redes neuronales, es que este método permite observar los gráficos de componentes y observar hacia dónde se van orientando cada uno de los grupos, este tipo de análisis permite anticiparse a la selección de los clusters y justificar la selección de los mismos. \n",
    "\n",
    "# Referencias \n",
    "\n",
    "Berzal, F. (2018). Redes Neuronales & Deep Learning (Spanish Edition). Independently published."
   ]
  }
 ],
 "metadata": {
  "kernelspec": {
   "display_name": "Python 3.8.13 ('infotec')",
   "language": "python",
   "name": "python3"
  },
  "language_info": {
   "codemirror_mode": {
    "name": "ipython",
    "version": 3
   },
   "file_extension": ".py",
   "mimetype": "text/x-python",
   "name": "python",
   "nbconvert_exporter": "python",
   "pygments_lexer": "ipython3",
   "version": "3.8.13"
  },
  "orig_nbformat": 4,
  "vscode": {
   "interpreter": {
    "hash": "8ec8c0bf13caf65e3ac999435b26378c3158748b4586dcaedfbe871bd9679e98"
   }
  }
 },
 "nbformat": 4,
 "nbformat_minor": 2
}
